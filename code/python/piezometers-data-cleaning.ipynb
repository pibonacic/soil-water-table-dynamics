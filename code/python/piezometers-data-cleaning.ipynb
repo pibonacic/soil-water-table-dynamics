{
 "cells": [
  {
   "cell_type": "code",
   "execution_count": 117,
   "id": "ecc7b5d2",
   "metadata": {},
   "outputs": [],
   "source": [
    "# Pendientes\n",
    "# Remove values during field campaigns (escala diaria)\n",
    "# Repetir para los pozos del sitio sur\n",
    "\n",
    "# Estrategia: Generar series temporales a escala diaria para uso de todos en el proyecto."
   ]
  },
  {
   "cell_type": "code",
   "execution_count": 118,
   "id": "f6bac4ea",
   "metadata": {},
   "outputs": [],
   "source": [
    "# Importar las bibliotecas necesarias\n",
    "import pandas as pd"
   ]
  },
  {
   "cell_type": "code",
   "execution_count": 119,
   "id": "3e717a06",
   "metadata": {},
   "outputs": [],
   "source": [
    "# Definir la ruta de los datos\n",
    "\n",
    "# Sitio norte\n",
    "fp_sdh1_ps01 = 'data/raw/piezometers/Data_15_07_2025_ SDH1PS01_COMPENSADA.xlsx'\n",
    "fp_sdh1_ps02 = 'data/raw/piezometers/Data_15_07_2025_ SDH1PS02_COMPENSADA.xlsx'"
   ]
  },
  {
   "cell_type": "code",
   "execution_count": 120,
   "id": "0aac3160",
   "metadata": {},
   "outputs": [],
   "source": [
    "# Leer los datos\n",
    "\n",
    "# Sitio norte\n",
    "sdh1_ps01 = pd.read_excel(fp_sdh1_ps01)\n",
    "sdh1_ps02 = pd.read_excel(fp_sdh1_ps02)"
   ]
  },
  {
   "cell_type": "code",
   "execution_count": 121,
   "id": "0dfb57e0",
   "metadata": {},
   "outputs": [],
   "source": [
    "# Función para crear una columna 'Timestamps' y usarla como indice con formato datetime\n",
    "\n",
    "def timestamp_as_index(dataframe):\n",
    "\n",
    "    # Convertir las columnas 'Date' y 'Time' en strings\n",
    "    date_str = dataframe['Date'].astype(str)\n",
    "    time_str = dataframe['Time'].astype(str)\n",
    "\n",
    "    # Crear columna 'Timestamps' con formato datetime\n",
    "    dataframe['Timestamps'] = pd.to_datetime(\n",
    "        date_str + ' ' + time_str,\n",
    "        format='%Y-%m-%d %H:%M:%S'\n",
    "    )\n",
    "\n",
    "    # Establecer 'Timestamps' como indice\n",
    "    dataframe = dataframe.set_index('Timestamps')\n",
    "    \n",
    "    # Eliminar columnas 'Date' y 'Time'\n",
    "    dataframe = dataframe.drop(columns=['Date', 'Time'])\n",
    "\n",
    "    return dataframe"
   ]
  },
  {
   "cell_type": "code",
   "execution_count": 122,
   "id": "04f20465",
   "metadata": {},
   "outputs": [],
   "source": [
    "# Ejecutar funcion para establecer 'Timestamps' como indice\n",
    "sdh1_ps01 = timestamp_as_index(sdh1_ps01)\n",
    "sdh1_ps02 = timestamp_as_index(sdh1_ps02)"
   ]
  },
  {
   "cell_type": "code",
   "execution_count": 123,
   "id": "575fe3bc",
   "metadata": {},
   "outputs": [],
   "source": [
    "# Diccionario con nombres de columnas originales y renombradas\n",
    "columns_dict = {\n",
    "    'TEMPERATURE' : 'Temperature_C',\n",
    "    'NE_m' : 'Depth_m',\n",
    "    'Cota_m' : 'Static_level_masl'\n",
    "}\n",
    "\n",
    "# Lista con nombres de columnas no necesarias\n",
    "columns_list = [\n",
    "    'ms',\n",
    "    'LEVEL',\n",
    "    'P_baro'\n",
    "]"
   ]
  },
  {
   "cell_type": "code",
   "execution_count": 124,
   "id": "d997a0f4",
   "metadata": {},
   "outputs": [],
   "source": [
    "# Funcion para renombrar columnas y eliminar las innecesarias\n",
    "\n",
    "def format_columns(df):\n",
    "    df = df.rename(columns=columns_dict).drop(columns=columns_list, axis=1, errors='ignore')\n",
    "    return df"
   ]
  },
  {
   "cell_type": "code",
   "execution_count": 125,
   "id": "7de82b95",
   "metadata": {},
   "outputs": [],
   "source": [
    "# Ejecutar la función de formateo de columnas\n",
    "\n",
    "sdh1_ps01 = format_columns(sdh1_ps01)\n",
    "sdh1_ps02 = format_columns(sdh1_ps02)"
   ]
  },
  {
   "cell_type": "code",
   "execution_count": 126,
   "id": "e82a1cc7",
   "metadata": {},
   "outputs": [],
   "source": [
    "# Función para detectar datos duplicados\n",
    "def check_duplicates(df, df_name):\n",
    "\n",
    "    # Hace una copia del df\n",
    "    df_copy = df.copy()\n",
    "\n",
    "    # Genera una columna que almacena los registros duplicados como True\n",
    "    df_copy['duplicated'] = df_copy.index.duplicated(keep=False)\n",
    "\n",
    "    # Filtra la copia del df, manteniendo sólo los registros duplicados\n",
    "    dup_filter = df_copy[df_copy['duplicated'] == True]\n",
    "\n",
    "    # Si los hay, imprime cuántos y cuáles registros están duplicados\n",
    "    if dup_filter.empty:\n",
    "        print(f'No hay datos duplicados en {df_name}')\n",
    "    else:\n",
    "        print(f'{df_name} tiene {len(dup_filter)} datos duplicados:')\n",
    "        print(dup_filter)"
   ]
  },
  {
   "cell_type": "code",
   "execution_count": 127,
   "id": "e5a3c0c5",
   "metadata": {},
   "outputs": [
    {
     "name": "stdout",
     "output_type": "stream",
     "text": [
      "No hay datos duplicados en sdh_ps01\n",
      "No hay datos duplicados en sdh_ps02\n"
     ]
    }
   ],
   "source": [
    "# Aplicar función de detección de duplicados\n",
    "check_duplicates(sdh1_ps01, 'sdh_ps01')\n",
    "check_duplicates(sdh1_ps02, 'sdh_ps02')"
   ]
  },
  {
   "cell_type": "code",
   "execution_count": 128,
   "id": "7ad4cd91",
   "metadata": {},
   "outputs": [],
   "source": [
    "# Función para detectar intervalos de medición y/o saltos en los datos\n",
    "def check_discontinuities(df, df_name, max_expected_interval):\n",
    "\n",
    "    # Hace una copia del df\n",
    "    df_copy = df.copy()\n",
    "\n",
    "    # Genera una columna que almacena los intervalos entre datos como Timedelta\n",
    "    df_copy['diff'] = df_copy.index.diff()\n",
    "\n",
    "    # Genera un objeto con el conteo de valores en la columna diff\n",
    "    value_count = df_copy['diff'].value_counts()\n",
    "\n",
    "    # Genera un objeto con los registros con intervalos superiores a los esperados\n",
    "    discontinuities = df_copy[df_copy['diff'] > pd.Timedelta(max_expected_interval)]\n",
    "\n",
    "    # Imprime el resultado del conteo de valores\n",
    "    print(f'Los intervalos entre datos en {df_name} son: {value_count}')\n",
    "    print('')\n",
    "\n",
    "    # Imprime los registros que superan el intervalo máximo esperado\n",
    "    print(f'Los intervalos anómalos en {df_name} son: {discontinuities}')\n",
    "    print('')"
   ]
  },
  {
   "cell_type": "code",
   "execution_count": 129,
   "id": "8ccceb63",
   "metadata": {},
   "outputs": [
    {
     "name": "stdout",
     "output_type": "stream",
     "text": [
      "Los intervalos entre datos en sdh1_ps01 son: diff\n",
      "0 days 00:10:00    35535\n",
      "0 days 00:05:00    18344\n",
      "0 days 00:15:00    10346\n",
      "0 days 00:40:00        2\n",
      "0 days 01:40:00        1\n",
      "0 days 01:30:00        1\n",
      "Name: count, dtype: int64\n",
      "\n",
      "Los intervalos anómalos en sdh1_ps01 son:                      Temperature_C  Depth_m  Static_level_masl            diff\n",
      "Timestamps                                                                    \n",
      "2024-07-25 18:20:00          8.767   0.5355          3827.0645 0 days 01:40:00\n",
      "2024-09-05 14:00:00          5.560   0.1712          3827.4288 0 days 00:40:00\n",
      "2024-11-10 15:00:00          6.464   0.5266          3827.0734 0 days 01:30:00\n",
      "2025-01-22 14:00:00          9.608   0.5726          3827.0274 0 days 00:40:00\n",
      "\n",
      "Los intervalos entre datos en sdh1_ps02 son: diff\n",
      "0 days 00:10:00    35530\n",
      "0 days 00:20:00        1\n",
      "Name: count, dtype: int64\n",
      "\n",
      "Los intervalos anómalos en sdh1_ps02 son:                      Temperature_C  Depth_m  Static_level_masl            diff\n",
      "Timestamps                                                                    \n",
      "2025-01-22 14:00:00         12.384   0.6669          3827.8321 0 days 00:20:00\n",
      "\n"
     ]
    }
   ],
   "source": [
    "check_discontinuities(sdh1_ps01, 'sdh1_ps01', '15min')\n",
    "check_discontinuities(sdh1_ps02, 'sdh1_ps02', '15min')"
   ]
  },
  {
   "cell_type": "code",
   "execution_count": 190,
   "id": "9a70d9aa",
   "metadata": {},
   "outputs": [],
   "source": [
    "# Fechas de terreno. Sólo se incluyen fechas de terreno efectivo (en el SDH)\n",
    "# La fecha de término es excluyente\n",
    "may_2024 = pd.date_range(start='2024-05-21', end='2024-05-23')\n",
    "jul_2024 = pd.date_range(start='2024-07-25', end='2024-07-28')\n",
    "sep_2024 = pd.date_range(start='2024-09-03', end='2024-09-07')\n",
    "nov_2024 = pd.date_range(start='2024-11-05', end='2024-11-12')\n",
    "jan_2025 = pd.date_range(start='2025-01-21', end='2025-01-23')\n",
    "apr_2025 = pd.date_range(start='2025-04-28', end='2025-05-02')\n",
    "jul_2025 = pd.date_range(start='2025-07-08', end='2025-07-16')\n"
   ]
  },
  {
   "cell_type": "code",
   "execution_count": 199,
   "id": "3481380a",
   "metadata": {},
   "outputs": [
    {
     "data": {
      "text/html": [
       "<div>\n",
       "<style scoped>\n",
       "    .dataframe tbody tr th:only-of-type {\n",
       "        vertical-align: middle;\n",
       "    }\n",
       "\n",
       "    .dataframe tbody tr th {\n",
       "        vertical-align: top;\n",
       "    }\n",
       "\n",
       "    .dataframe thead th {\n",
       "        text-align: right;\n",
       "    }\n",
       "</style>\n",
       "<table border=\"1\" class=\"dataframe\">\n",
       "  <thead>\n",
       "    <tr style=\"text-align: right;\">\n",
       "      <th></th>\n",
       "      <th>Temperature_C</th>\n",
       "      <th>Depth_m</th>\n",
       "      <th>Static_level_masl</th>\n",
       "    </tr>\n",
       "    <tr>\n",
       "      <th>Timestamps</th>\n",
       "      <th></th>\n",
       "      <th></th>\n",
       "      <th></th>\n",
       "    </tr>\n",
       "  </thead>\n",
       "  <tbody>\n",
       "    <tr>\n",
       "      <th>2024-09-05 14:00:00</th>\n",
       "      <td>5.560</td>\n",
       "      <td>0.1712</td>\n",
       "      <td>3827.4288</td>\n",
       "    </tr>\n",
       "    <tr>\n",
       "      <th>2024-09-05 14:15:00</th>\n",
       "      <td>5.444</td>\n",
       "      <td>0.1735</td>\n",
       "      <td>3827.4265</td>\n",
       "    </tr>\n",
       "    <tr>\n",
       "      <th>2024-09-05 14:30:00</th>\n",
       "      <td>5.389</td>\n",
       "      <td>0.1741</td>\n",
       "      <td>3827.4259</td>\n",
       "    </tr>\n",
       "    <tr>\n",
       "      <th>2024-09-05 14:45:00</th>\n",
       "      <td>5.358</td>\n",
       "      <td>0.1737</td>\n",
       "      <td>3827.4263</td>\n",
       "    </tr>\n",
       "    <tr>\n",
       "      <th>2024-09-05 15:00:00</th>\n",
       "      <td>5.338</td>\n",
       "      <td>0.1749</td>\n",
       "      <td>3827.4251</td>\n",
       "    </tr>\n",
       "    <tr>\n",
       "      <th>2024-09-05 15:15:00</th>\n",
       "      <td>5.328</td>\n",
       "      <td>0.1755</td>\n",
       "      <td>3827.4245</td>\n",
       "    </tr>\n",
       "    <tr>\n",
       "      <th>2024-09-05 15:30:00</th>\n",
       "      <td>5.320</td>\n",
       "      <td>0.1757</td>\n",
       "      <td>3827.4243</td>\n",
       "    </tr>\n",
       "    <tr>\n",
       "      <th>2024-09-05 15:45:00</th>\n",
       "      <td>5.312</td>\n",
       "      <td>0.1759</td>\n",
       "      <td>3827.4241</td>\n",
       "    </tr>\n",
       "    <tr>\n",
       "      <th>2024-09-05 16:00:00</th>\n",
       "      <td>5.308</td>\n",
       "      <td>0.1770</td>\n",
       "      <td>3827.4230</td>\n",
       "    </tr>\n",
       "    <tr>\n",
       "      <th>2024-09-05 16:15:00</th>\n",
       "      <td>5.303</td>\n",
       "      <td>0.1780</td>\n",
       "      <td>3827.4220</td>\n",
       "    </tr>\n",
       "  </tbody>\n",
       "</table>\n",
       "</div>"
      ],
      "text/plain": [
       "                     Temperature_C  Depth_m  Static_level_masl\n",
       "Timestamps                                                    \n",
       "2024-09-05 14:00:00          5.560   0.1712          3827.4288\n",
       "2024-09-05 14:15:00          5.444   0.1735          3827.4265\n",
       "2024-09-05 14:30:00          5.389   0.1741          3827.4259\n",
       "2024-09-05 14:45:00          5.358   0.1737          3827.4263\n",
       "2024-09-05 15:00:00          5.338   0.1749          3827.4251\n",
       "2024-09-05 15:15:00          5.328   0.1755          3827.4245\n",
       "2024-09-05 15:30:00          5.320   0.1757          3827.4243\n",
       "2024-09-05 15:45:00          5.312   0.1759          3827.4241\n",
       "2024-09-05 16:00:00          5.308   0.1770          3827.4230\n",
       "2024-09-05 16:15:00          5.303   0.1780          3827.4220"
      ]
     },
     "execution_count": 199,
     "metadata": {},
     "output_type": "execute_result"
    }
   ],
   "source": [
    "sdh1_ps01.loc[sep_2024.min() : sep_2024.max()].sort_values(by='Temperature_C', ascending=False).head(10)"
   ]
  },
  {
   "cell_type": "code",
   "execution_count": 133,
   "id": "05a468c1",
   "metadata": {},
   "outputs": [],
   "source": [
    "# sdh1_ps01['diff'] = sdh1_ps01.index.diff()\n",
    "\n",
    "# intervals_to_process = ['5min', '10min', '15min']\n",
    "# reindexed_parts = []\n",
    "\n",
    "# for interval in intervals_to_process:\n",
    "\n",
    "#     current_interval = sdh1_ps01[sdh1_ps01['diff'] == pd.Timedelta(interval)]\n",
    "\n",
    "#     if not current_interval.empty:\n",
    "#         full_index = pd.date_range(\n",
    "#             start=current_interval.index.min(),\n",
    "#             end=current_interval.index.max(),\n",
    "#             freq=interval \n",
    "#         )\n",
    "        \n",
    "#         reindexed = current_interval.reindex(full_index)\n",
    "#         reindexed_parts.append(reindexed)\n",
    "\n",
    "# df_unificado = pd.concat(reindexed_parts).sort_index()"
   ]
  }
 ],
 "metadata": {
  "kernelspec": {
   "display_name": "base",
   "language": "python",
   "name": "python3"
  },
  "language_info": {
   "codemirror_mode": {
    "name": "ipython",
    "version": 3
   },
   "file_extension": ".py",
   "mimetype": "text/x-python",
   "name": "python",
   "nbconvert_exporter": "python",
   "pygments_lexer": "ipython3",
   "version": "3.13.5"
  }
 },
 "nbformat": 4,
 "nbformat_minor": 5
}

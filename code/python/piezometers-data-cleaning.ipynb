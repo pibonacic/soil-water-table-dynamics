{
 "cells": [
  {
   "cell_type": "code",
   "execution_count": 86,
   "id": "ecc7b5d2",
   "metadata": {},
   "outputs": [],
   "source": [
    "# Merge date and time columns\n",
    "# Set date as index\n",
    "# Rename columns with units\n",
    "# Keep useful columns\n",
    "# Search for duplicates\n",
    "# Reindex\n",
    "# Remove values during field campaigns"
   ]
  },
  {
   "cell_type": "code",
   "execution_count": 87,
   "id": "f6bac4ea",
   "metadata": {},
   "outputs": [],
   "source": [
    "# Importar las bibliotecas necesarias\n",
    "import pandas as pd"
   ]
  },
  {
   "cell_type": "code",
   "execution_count": 88,
   "id": "3e717a06",
   "metadata": {},
   "outputs": [],
   "source": [
    "# Definir la ruta de los datos\n",
    "\n",
    "# Sitio norte\n",
    "fp_sdh1_ps01 = 'data/raw/piezometers/Data_15_07_2025_ SDH1PS01_COMPENSADA.xlsx'\n",
    "fp_sdh1_ps02 = 'data/raw/piezometers/Data_15_07_2025_ SDH1PS02_COMPENSADA.xlsx'"
   ]
  },
  {
   "cell_type": "code",
   "execution_count": 89,
   "id": "0aac3160",
   "metadata": {},
   "outputs": [],
   "source": [
    "# Leer los datos\n",
    "\n",
    "# Sitio norte\n",
    "sdh1_ps01 = pd.read_excel(fp_sdh1_ps01)\n",
    "sdh1_ps02 = pd.read_excel(fp_sdh1_ps02)"
   ]
  },
  {
   "cell_type": "code",
   "execution_count": 90,
   "id": "0dfb57e0",
   "metadata": {},
   "outputs": [],
   "source": [
    "# Función para crear una columna 'Timestamps' y usarla como indice con formato datetime\n",
    "\n",
    "def timestamp_as_index(dataframe):\n",
    "\n",
    "    # Convertir las columnas 'Date' y 'Time' en strings\n",
    "    date_str = dataframe['Date'].astype(str)\n",
    "    time_str = dataframe['Time'].astype(str)\n",
    "\n",
    "    # Crear columna 'Timestamps' con formato datetime\n",
    "    dataframe['Timestamps'] = pd.to_datetime(\n",
    "        date_str + ' ' + time_str,\n",
    "        format='%Y-%m-%d %H:%M:%S'\n",
    "    )\n",
    "\n",
    "    # Establecer 'Timestamps' como indice\n",
    "    dataframe = dataframe.set_index('Timestamps')\n",
    "    \n",
    "    # Eliminar columnas 'Date' y 'Time'\n",
    "    dataframe = dataframe.drop(columns=['Date', 'Time'])\n",
    "\n",
    "    return dataframe"
   ]
  },
  {
   "cell_type": "code",
   "execution_count": 91,
   "id": "04f20465",
   "metadata": {},
   "outputs": [],
   "source": [
    "# Ejecutar funcion para establecer 'Timestamps' como indice\n",
    "sdh1_ps01 = timestamp_as_index(sdh1_ps01)\n",
    "sdh1_ps02 = timestamp_as_index(sdh1_ps02)"
   ]
  },
  {
   "cell_type": "code",
   "execution_count": 93,
   "id": "575fe3bc",
   "metadata": {},
   "outputs": [],
   "source": [
    "# Renombrar columnas\n",
    "\n",
    "# sdh1_ps01.rename"
   ]
  }
 ],
 "metadata": {
  "kernelspec": {
   "display_name": "base",
   "language": "python",
   "name": "python3"
  },
  "language_info": {
   "codemirror_mode": {
    "name": "ipython",
    "version": 3
   },
   "file_extension": ".py",
   "mimetype": "text/x-python",
   "name": "python",
   "nbconvert_exporter": "python",
   "pygments_lexer": "ipython3",
   "version": "3.13.5"
  }
 },
 "nbformat": 4,
 "nbformat_minor": 5
}

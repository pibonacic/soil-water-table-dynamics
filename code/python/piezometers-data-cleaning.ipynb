{
 "cells": [
  {
   "cell_type": "code",
   "execution_count": null,
   "id": "ecc7b5d2",
   "metadata": {},
   "outputs": [],
   "source": [
    "# Pendientes\n",
    "# Reindex\n",
    "# Remove values during field campaigns\n",
    "# Repetir para los pozos del sitio sur\n",
    "\n",
    "# Estrategia: reindexar los datasets a escala horaria, corrigiendo duplicados y rellenando con NaNs.\n",
    "#             Luego, generar series temporales a escala diaria para uso de todos en el proyecto."
   ]
  },
  {
   "cell_type": "code",
   "execution_count": 104,
   "id": "f6bac4ea",
   "metadata": {},
   "outputs": [],
   "source": [
    "# Importar las bibliotecas necesarias\n",
    "import pandas as pd"
   ]
  },
  {
   "cell_type": "code",
   "execution_count": 105,
   "id": "3e717a06",
   "metadata": {},
   "outputs": [],
   "source": [
    "# Definir la ruta de los datos\n",
    "\n",
    "# Sitio norte\n",
    "fp_sdh1_ps01 = 'data/raw/piezometers/Data_15_07_2025_ SDH1PS01_COMPENSADA.xlsx'\n",
    "fp_sdh1_ps02 = 'data/raw/piezometers/Data_15_07_2025_ SDH1PS02_COMPENSADA.xlsx'"
   ]
  },
  {
   "cell_type": "code",
   "execution_count": 106,
   "id": "0aac3160",
   "metadata": {},
   "outputs": [],
   "source": [
    "# Leer los datos\n",
    "\n",
    "# Sitio norte\n",
    "sdh1_ps01 = pd.read_excel(fp_sdh1_ps01)\n",
    "sdh1_ps02 = pd.read_excel(fp_sdh1_ps02)"
   ]
  },
  {
   "cell_type": "code",
   "execution_count": 107,
   "id": "0dfb57e0",
   "metadata": {},
   "outputs": [],
   "source": [
    "# Función para crear una columna 'Timestamps' y usarla como indice con formato datetime\n",
    "\n",
    "def timestamp_as_index(dataframe):\n",
    "\n",
    "    # Convertir las columnas 'Date' y 'Time' en strings\n",
    "    date_str = dataframe['Date'].astype(str)\n",
    "    time_str = dataframe['Time'].astype(str)\n",
    "\n",
    "    # Crear columna 'Timestamps' con formato datetime\n",
    "    dataframe['Timestamps'] = pd.to_datetime(\n",
    "        date_str + ' ' + time_str,\n",
    "        format='%Y-%m-%d %H:%M:%S'\n",
    "    )\n",
    "\n",
    "    # Establecer 'Timestamps' como indice\n",
    "    dataframe = dataframe.set_index('Timestamps')\n",
    "    \n",
    "    # Eliminar columnas 'Date' y 'Time'\n",
    "    dataframe = dataframe.drop(columns=['Date', 'Time'])\n",
    "\n",
    "    return dataframe"
   ]
  },
  {
   "cell_type": "code",
   "execution_count": 108,
   "id": "04f20465",
   "metadata": {},
   "outputs": [],
   "source": [
    "# Ejecutar funcion para establecer 'Timestamps' como indice\n",
    "sdh1_ps01 = timestamp_as_index(sdh1_ps01)\n",
    "sdh1_ps02 = timestamp_as_index(sdh1_ps02)"
   ]
  },
  {
   "cell_type": "code",
   "execution_count": 109,
   "id": "575fe3bc",
   "metadata": {},
   "outputs": [],
   "source": [
    "# Diccionario con nombres de columnas originales y nuevas\n",
    "\n",
    "columns_dict = {\n",
    "    'TEMPERATURE' : 'Temperature_C',\n",
    "    'NE_m' : 'Depth_m',\n",
    "    'Cota_m' : 'Static_level_masl'\n",
    "}\n",
    "\n",
    "# Lista con nombres de columnas no necesarias\n",
    "columns_list = [\n",
    "    'ms',\n",
    "    'LEVEL',\n",
    "    'P_baro'\n",
    "]"
   ]
  },
  {
   "cell_type": "code",
   "execution_count": 110,
   "id": "d997a0f4",
   "metadata": {},
   "outputs": [],
   "source": [
    "# Funcion para renombrar columnas y eliminar las innecesarias\n",
    "\n",
    "def format_columns(df):\n",
    "    df = df.rename(columns=columns_dict).drop(columns=columns_list, axis=1, errors='ignore')\n",
    "    return df"
   ]
  },
  {
   "cell_type": "code",
   "execution_count": 111,
   "id": "7de82b95",
   "metadata": {},
   "outputs": [],
   "source": [
    "# Ejecutar la función de formateo de columnas\n",
    "\n",
    "sdh1_ps01 = format_columns(sdh1_ps01)\n",
    "sdh1_ps02 = format_columns(sdh1_ps02)"
   ]
  },
  {
   "cell_type": "code",
   "execution_count": null,
   "id": "e82a1cc7",
   "metadata": {},
   "outputs": [],
   "source": [
    "# Función para detectar datos duplicados\n",
    "def check_duplicates(df, df_name):\n",
    "\n",
    "    # Hace una copia del df\n",
    "    df_copy = df.copy()\n",
    "\n",
    "    # Genera una columna que almacena los registros duplicados como True\n",
    "    df_copy['duplicated'] = df_copy.index.duplicated(keep=False)\n",
    "\n",
    "    # Filtra la copia del df, manteniendo sólo los registros duplicados\n",
    "    dup_filter = df_copy[df_copy['duplicated'] == True]\n",
    "\n",
    "    # Si los hay, imprime cuántos y cuáles registros están duplicados\n",
    "    if dup_filter.empty:\n",
    "        print(f'No hay datos duplicados en {df_name}')\n",
    "    else:\n",
    "        print(f'{df_name} tiene {len(dup_filter)} datos duplicados:')\n",
    "        print(dup_filter)"
   ]
  },
  {
   "cell_type": "code",
   "execution_count": 117,
   "id": "e5a3c0c5",
   "metadata": {},
   "outputs": [
    {
     "name": "stdout",
     "output_type": "stream",
     "text": [
      "No hay datos duplicados en sdh_ps01\n",
      "No hay datos duplicados en sdh_ps02\n"
     ]
    }
   ],
   "source": [
    "# Aplicar función de detección de duplicados\n",
    "check_duplicates(sdh1_ps01, 'sdh_ps01')\n",
    "check_duplicates(sdh1_ps02, 'sdh_ps02')"
   ]
  },
  {
   "cell_type": "code",
   "execution_count": null,
   "id": "313ed10d",
   "metadata": {},
   "outputs": [],
   "source": [
    "# Función para detectar saltos en los datos\n",
    "# Hay que identificar los periodos de 5, 10 y 15 min de registros y adaptar la función para cada uno"
   ]
  },
  {
   "cell_type": "code",
   "execution_count": 119,
   "id": "427958de",
   "metadata": {},
   "outputs": [
    {
     "data": {
      "text/html": [
       "<div>\n",
       "<style scoped>\n",
       "    .dataframe tbody tr th:only-of-type {\n",
       "        vertical-align: middle;\n",
       "    }\n",
       "\n",
       "    .dataframe tbody tr th {\n",
       "        vertical-align: top;\n",
       "    }\n",
       "\n",
       "    .dataframe thead th {\n",
       "        text-align: right;\n",
       "    }\n",
       "</style>\n",
       "<table border=\"1\" class=\"dataframe\">\n",
       "  <thead>\n",
       "    <tr style=\"text-align: right;\">\n",
       "      <th></th>\n",
       "      <th>Temperature_C</th>\n",
       "      <th>Depth_m</th>\n",
       "      <th>Static_level_masl</th>\n",
       "    </tr>\n",
       "    <tr>\n",
       "      <th>Timestamps</th>\n",
       "      <th></th>\n",
       "      <th></th>\n",
       "      <th></th>\n",
       "    </tr>\n",
       "  </thead>\n",
       "  <tbody>\n",
       "    <tr>\n",
       "      <th>2024-05-23 00:00:00</th>\n",
       "      <td>9.801</td>\n",
       "      <td>0.5969</td>\n",
       "      <td>3827.0031</td>\n",
       "    </tr>\n",
       "    <tr>\n",
       "      <th>2024-05-23 00:05:00</th>\n",
       "      <td>9.802</td>\n",
       "      <td>0.5966</td>\n",
       "      <td>3827.0034</td>\n",
       "    </tr>\n",
       "    <tr>\n",
       "      <th>2024-05-23 00:10:00</th>\n",
       "      <td>9.797</td>\n",
       "      <td>0.5971</td>\n",
       "      <td>3827.0029</td>\n",
       "    </tr>\n",
       "    <tr>\n",
       "      <th>2024-05-23 00:15:00</th>\n",
       "      <td>9.796</td>\n",
       "      <td>0.5970</td>\n",
       "      <td>3827.0030</td>\n",
       "    </tr>\n",
       "    <tr>\n",
       "      <th>2024-05-23 00:20:00</th>\n",
       "      <td>9.796</td>\n",
       "      <td>0.5969</td>\n",
       "      <td>3827.0031</td>\n",
       "    </tr>\n",
       "    <tr>\n",
       "      <th>...</th>\n",
       "      <td>...</td>\n",
       "      <td>...</td>\n",
       "      <td>...</td>\n",
       "    </tr>\n",
       "    <tr>\n",
       "      <th>2025-07-15 09:30:00</th>\n",
       "      <td>5.902</td>\n",
       "      <td>0.5339</td>\n",
       "      <td>3827.0661</td>\n",
       "    </tr>\n",
       "    <tr>\n",
       "      <th>2025-07-15 09:40:00</th>\n",
       "      <td>5.901</td>\n",
       "      <td>0.5350</td>\n",
       "      <td>3827.0650</td>\n",
       "    </tr>\n",
       "    <tr>\n",
       "      <th>2025-07-15 09:50:00</th>\n",
       "      <td>5.899</td>\n",
       "      <td>0.5348</td>\n",
       "      <td>3827.0652</td>\n",
       "    </tr>\n",
       "    <tr>\n",
       "      <th>2025-07-15 10:00:00</th>\n",
       "      <td>5.898</td>\n",
       "      <td>0.5346</td>\n",
       "      <td>3827.0654</td>\n",
       "    </tr>\n",
       "    <tr>\n",
       "      <th>2025-07-15 10:10:00</th>\n",
       "      <td>5.898</td>\n",
       "      <td>0.5358</td>\n",
       "      <td>3827.0642</td>\n",
       "    </tr>\n",
       "  </tbody>\n",
       "</table>\n",
       "<p>64230 rows × 3 columns</p>\n",
       "</div>"
      ],
      "text/plain": [
       "                     Temperature_C  Depth_m  Static_level_masl\n",
       "Timestamps                                                    \n",
       "2024-05-23 00:00:00          9.801   0.5969          3827.0031\n",
       "2024-05-23 00:05:00          9.802   0.5966          3827.0034\n",
       "2024-05-23 00:10:00          9.797   0.5971          3827.0029\n",
       "2024-05-23 00:15:00          9.796   0.5970          3827.0030\n",
       "2024-05-23 00:20:00          9.796   0.5969          3827.0031\n",
       "...                            ...      ...                ...\n",
       "2025-07-15 09:30:00          5.902   0.5339          3827.0661\n",
       "2025-07-15 09:40:00          5.901   0.5350          3827.0650\n",
       "2025-07-15 09:50:00          5.899   0.5348          3827.0652\n",
       "2025-07-15 10:00:00          5.898   0.5346          3827.0654\n",
       "2025-07-15 10:10:00          5.898   0.5358          3827.0642\n",
       "\n",
       "[64230 rows x 3 columns]"
      ]
     },
     "execution_count": 119,
     "metadata": {},
     "output_type": "execute_result"
    }
   ],
   "source": [
    "sdh1_ps01"
   ]
  }
 ],
 "metadata": {
  "kernelspec": {
   "display_name": "base",
   "language": "python",
   "name": "python3"
  },
  "language_info": {
   "codemirror_mode": {
    "name": "ipython",
    "version": 3
   },
   "file_extension": ".py",
   "mimetype": "text/x-python",
   "name": "python",
   "nbconvert_exporter": "python",
   "pygments_lexer": "ipython3",
   "version": "3.13.5"
  }
 },
 "nbformat": 4,
 "nbformat_minor": 5
}

{
 "cells": [
  {
   "cell_type": "code",
   "execution_count": 9,
   "id": "f29423b7",
   "metadata": {},
   "outputs": [],
   "source": [
    "# --- IMPORTACIONES ---\n",
    "\n",
    "import pandas as pd\n",
    "import glob\n",
    "import os"
   ]
  },
  {
   "cell_type": "code",
   "execution_count": 10,
   "id": "cf80e7a7",
   "metadata": {},
   "outputs": [
    {
     "name": "stdout",
     "output_type": "stream",
     "text": [
      "Archivos con datos encontrados: 8\n"
     ]
    }
   ],
   "source": [
    "# --- CONFIGURACIONES ---\n",
    "\n",
    "# RUTA A LOS DATOS\n",
    "# Busca todos los archivos que terminen en '*_cleaned.csv' en la carpeta \n",
    "# especificada y los almacena en una lista\n",
    "data_path = '../../data/processed/'\n",
    "data_files = glob.glob(os.path.join(data_path, '**', '*_cleaned.csv'), recursive=True)\n",
    "\n",
    "# Imprime los archivos encontrados\n",
    "print(f'Archivos con datos encontrados: {len(data_files)}')"
   ]
  },
  {
   "cell_type": "code",
   "execution_count": 11,
   "id": "95ecaf89",
   "metadata": {},
   "outputs": [],
   "source": [
    "# --- DEFINICION DE FUNCIONES ---\n",
    "\n",
    "# 1. PROMEDIAR A ESCALA DIARIA LOS DATOS SUBHORARIOS\n",
    "\n",
    "def aggregate_to_daily_mean(file_path):\n",
    "    \"\"\"\n",
    "    Lee un archivo CSV con datos de series de tiempo, lo agrega a una\n",
    "    escala diaria y calcula el valor promedio para cada día\n",
    "    \"\"\"\n",
    "    # Lee el CSV e identifica el indice como datetime\n",
    "    df = pd.read_csv(file_path, parse_dates=['Timestamps'], index_col='Timestamps')\n",
    "    \n",
    "    # Resamplea el df a escala diaria usando el promedio\n",
    "    daily_df = df.resample('D').mean()\n",
    "\n",
    "    return daily_df"
   ]
  },
  {
   "cell_type": "code",
   "execution_count": null,
   "id": "ea4ffb3a",
   "metadata": {},
   "outputs": [
    {
     "name": "stdout",
     "output_type": "stream",
     "text": [
      "\n",
      "Procesando el archivo SDH1-TEROS...\n",
      "Datos diarios para SDH1-TEROS guardados en: ../../data/processed/daily_data/SDH1-TEROS_daily.csv\n",
      "\n",
      "Procesando el archivo SDH1PS01...\n",
      "Datos diarios para SDH1PS01 guardados en: ../../data/processed/daily_data/SDH1PS01_daily.csv\n",
      "\n",
      "Procesando el archivo SDH1PS02...\n",
      "Datos diarios para SDH1PS02 guardados en: ../../data/processed/daily_data/SDH1PS02_daily.csv\n",
      "\n",
      "Procesando el archivo SDH2-TEROS...\n",
      "Datos diarios para SDH2-TEROS guardados en: ../../data/processed/daily_data/SDH2-TEROS_daily.csv\n",
      "\n",
      "Procesando el archivo SDH2PP01...\n",
      "Datos diarios para SDH2PP01 guardados en: ../../data/processed/daily_data/SDH2PP01_daily.csv\n",
      "\n",
      "Procesando el archivo SDH2PS01...\n",
      "Datos diarios para SDH2PS01 guardados en: ../../data/processed/daily_data/SDH2PS01_daily.csv\n",
      "\n",
      "Procesando el archivo SDH2PS02...\n",
      "Datos diarios para SDH2PS02 guardados en: ../../data/processed/daily_data/SDH2PS02_daily.csv\n",
      "\n",
      "Procesando el archivo SDH2PS03...\n",
      "Datos diarios para SDH2PS03 guardados en: ../../data/processed/daily_data/SDH2PS03_daily.csv\n"
     ]
    }
   ],
   "source": [
    "# --- BUCLE DE PROCESAMIENTO ---\n",
    "\n",
    "# Define una carpeta de salida para los datos limpios y la crea si no existe\n",
    "output_path = '../../data/processed/daily/'\n",
    "os.makedirs(output_path, exist_ok=True)\n",
    "\n",
    "# Itera sobre cada archivo\n",
    "for file_path in data_files:\n",
    "\n",
    "    # Define el nombre de cada df usando el nombre de archivo\n",
    "    base_name = os.path.basename(file_path)\n",
    "    df_name = base_name.split('_')[0].strip()\n",
    "\n",
    "    # Imprime el nombre del df en procesamiento\n",
    "    print(f'\\nProcesando el archivo {df_name}...')\n",
    "\n",
    "    # Llama a la funcion de agregacion diaria\n",
    "    daily_dataframe = aggregate_to_daily_mean(file_path)\n",
    "\n",
    "    # Genera un nombre de archivo y asigna ubicacion al df diario\n",
    "    output_filename = os.path.join(output_path, f'{df_name}_daily.csv')\n",
    "    \n",
    "    # Exporta el df procesado como csv\n",
    "    daily_dataframe.to_csv(output_filename)\n",
    "    \n",
    "    # Imprime informacion sobre el nombre del output\n",
    "    print(f\"Datos diarios para {df_name} guardados en: {output_filename}\")\n"
   ]
  }
 ],
 "metadata": {
  "kernelspec": {
   "display_name": "base",
   "language": "python",
   "name": "python3"
  },
  "language_info": {
   "codemirror_mode": {
    "name": "ipython",
    "version": 3
   },
   "file_extension": ".py",
   "mimetype": "text/x-python",
   "name": "python",
   "nbconvert_exporter": "python",
   "pygments_lexer": "ipython3",
   "version": "3.13.5"
  }
 },
 "nbformat": 4,
 "nbformat_minor": 5
}

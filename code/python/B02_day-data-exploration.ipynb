{
 "cells": [
  {
   "cell_type": "code",
   "execution_count": 1,
   "id": "d18f5d2d",
   "metadata": {},
   "outputs": [],
   "source": [
    "# --- LIBRERIAS ---\n",
    "\n",
    "import pandas as pd\n",
    "import glob\n",
    "import os"
   ]
  },
  {
   "cell_type": "code",
   "execution_count": 2,
   "id": "ca4df379",
   "metadata": {},
   "outputs": [
    {
     "name": "stdout",
     "output_type": "stream",
     "text": [
      "Archivos con datos encontrados: 8\n"
     ]
    }
   ],
   "source": [
    "# --- LECTURA ---\n",
    "\n",
    "data_path = '../../data/processed/daily/'\n",
    "data_files = glob.glob(os.path.join(data_path, '*_daily.csv'))\n",
    "# Imprime los archivos encontrados\n",
    "print(f'Archivos con datos encontrados: {len(data_files)}')"
   ]
  },
  {
   "cell_type": "code",
   "execution_count": null,
   "id": "f7bf44ab",
   "metadata": {},
   "outputs": [],
   "source": [
    "# --- DEFINICION DE FUNCIONES ---\n",
    "\n"
   ]
  }
 ],
 "metadata": {
  "kernelspec": {
   "display_name": "base",
   "language": "python",
   "name": "python3"
  },
  "language_info": {
   "codemirror_mode": {
    "name": "ipython",
    "version": 3
   },
   "file_extension": ".py",
   "mimetype": "text/x-python",
   "name": "python",
   "nbconvert_exporter": "python",
   "pygments_lexer": "ipython3",
   "version": "3.13.5"
  }
 },
 "nbformat": 4,
 "nbformat_minor": 5
}

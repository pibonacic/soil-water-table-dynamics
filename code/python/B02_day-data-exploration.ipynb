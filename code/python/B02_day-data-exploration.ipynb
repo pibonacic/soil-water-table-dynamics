{
 "cells": [
  {
   "cell_type": "code",
   "execution_count": 1,
   "id": "d18f5d2d",
   "metadata": {},
   "outputs": [],
   "source": [
    "# --- LIBRERIAS ---\n",
    "\n",
    "import pandas as pd\n",
    "import matplotlib.pyplot as plt\n",
    "import glob\n",
    "import os"
   ]
  },
  {
   "cell_type": "code",
   "execution_count": 6,
   "id": "ca4df379",
   "metadata": {},
   "outputs": [
    {
     "name": "stdout",
     "output_type": "stream",
     "text": [
      "Archivos con datos piezometricos encontrados: 6\n",
      "Archivos con datos de suelos encontrados: 2\n"
     ]
    }
   ],
   "source": [
    "# --- LECTURA DE DATOS ---\n",
    "\n",
    "# Establece la ruta a la carpeta con los datos diarios\n",
    "data_path = '../../data/processed/daily/'\n",
    "\n",
    "# Almacena los datos piezometricos\n",
    "piezometer_files = glob.glob(os.path.join(data_path, 'piezo_*_daily.csv'))\n",
    "# Almacena los datos de suelos\n",
    "soil_files = glob.glob(os.path.join(data_path, 'soil_*_daily.csv'))\n",
    "\n",
    "# Imprime los archivos encontrados\n",
    "print(f'Archivos con datos piezometricos encontrados: {len(piezometer_files)}')\n",
    "print(f'Archivos con datos de suelos encontrados: {len(soil_files)}')"
   ]
  },
  {
   "cell_type": "code",
   "execution_count": 3,
   "id": "f7bf44ab",
   "metadata": {},
   "outputs": [],
   "source": [
    "# --- DEFINICION DE FUNCIONES ---\n",
    "\n",
    "# GRAFICA TEMP Y DEPTH DE LOS PIEZOMETROS\n",
    "def plot_piezometer_data(df, well_name):\n",
    "    \n",
    "    # Establece el objeto plot\n",
    "    fig, ax1 = plt.subplots(figsize=(8,4))\n",
    "\n",
    "    # Eje izquierdo\n",
    "    ax1.set_xlabel('')\n",
    "    ax1.set_ylabel('Temperature (°C)')\n",
    "    ax1.plot(df.index, df['Temperature_C'], color='tab:orange', label='Temperature (°C)')\n",
    "    ax1.tick_params(axis='y')\n",
    "    ax1.grid(True, alpha=0.6)\n",
    "\n",
    "    # Eje derecho\n",
    "    ax2 = ax1.twinx()\n",
    "    ax2.set_ylabel('Depth (m)')\n",
    "    ax2.plot(df.index, df['Depth_m'], color='tab:blue', label='Depth (m)')\n",
    "    ax2.invert_yaxis()\n",
    "\n",
    "    # Otros elementos\n",
    "    plt.title(f'{well_name}')\n",
    "    fig.tight_layout()\n",
    "    plt.show()"
   ]
  },
  {
   "cell_type": "code",
   "execution_count": null,
   "id": "fff9405f",
   "metadata": {},
   "outputs": [],
   "source": [
    "# --- BUCLE DE PROCESAMIENTO"
   ]
  }
 ],
 "metadata": {
  "kernelspec": {
   "display_name": "base",
   "language": "python",
   "name": "python3"
  },
  "language_info": {
   "codemirror_mode": {
    "name": "ipython",
    "version": 3
   },
   "file_extension": ".py",
   "mimetype": "text/x-python",
   "name": "python",
   "nbconvert_exporter": "python",
   "pygments_lexer": "ipython3",
   "version": "3.13.5"
  }
 },
 "nbformat": 4,
 "nbformat_minor": 5
}

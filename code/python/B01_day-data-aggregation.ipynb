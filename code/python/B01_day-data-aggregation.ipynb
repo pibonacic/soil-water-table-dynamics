{
 "cells": [
  {
   "cell_type": "code",
   "execution_count": 16,
   "id": "f29423b7",
   "metadata": {},
   "outputs": [],
   "source": [
    "# --- IMPORTACIONES ---\n",
    "\n",
    "import pandas as pd\n",
    "import glob\n",
    "import os"
   ]
  },
  {
   "cell_type": "code",
   "execution_count": 17,
   "id": "cf80e7a7",
   "metadata": {},
   "outputs": [
    {
     "name": "stdout",
     "output_type": "stream",
     "text": [
      "Archivos con datos encontrados: 8\n",
      "['../../data/processed/cleaned\\\\piezo_SDH1PS01_cleaned.csv', '../../data/processed/cleaned\\\\piezo_SDH1PS02_cleaned.csv', '../../data/processed/cleaned\\\\piezo_SDH2PP01_cleaned.csv', '../../data/processed/cleaned\\\\piezo_SDH2PS01_cleaned.csv', '../../data/processed/cleaned\\\\piezo_SDH2PS02_cleaned.csv', '../../data/processed/cleaned\\\\piezo_SDH2PS03_cleaned.csv', '../../data/processed/cleaned\\\\soil_SDH1_cleaned.csv', '../../data/processed/cleaned\\\\soil_SDH2_cleaned.csv']\n"
     ]
    }
   ],
   "source": [
    "# --- CONFIGURACIONES ---\n",
    "\n",
    "# RUTA A LOS DATOS\n",
    "# Busca todos los archivos que terminen en '*_cleaned.csv' en la carpeta \n",
    "# especificada y los almacena en una lista\n",
    "data_path = '../../data/processed/cleaned/'\n",
    "data_files = glob.glob(os.path.join(data_path, '*_cleaned.csv'))\n",
    "\n",
    "# Imprime los archivos encontrados\n",
    "print(f'Archivos con datos encontrados: {len(data_files)}')\n",
    "print(data_files)"
   ]
  },
  {
   "cell_type": "code",
   "execution_count": 18,
   "id": "95ecaf89",
   "metadata": {},
   "outputs": [],
   "source": [
    "# --- DEFINICION DE FUNCIONES ---\n",
    "\n",
    "# 1. PROMEDIAR A ESCALA DIARIA LOS DATOS SUBHORARIOS\n",
    "\n",
    "def aggregate_to_daily_mean(file_path):\n",
    "    \"\"\"\n",
    "    Lee un archivo CSV con datos de series de tiempo, lo agrega a una\n",
    "    escala diaria y calcula el valor promedio para cada día\n",
    "    \"\"\"\n",
    "    # Lee el CSV e identifica el indice como datetime\n",
    "    df = pd.read_csv(file_path, parse_dates=['Timestamps'], index_col='Timestamps')\n",
    "    \n",
    "    # Resamplea el df a escala diaria usando el promedio\n",
    "    daily_df = df.resample('D').mean()\n",
    "\n",
    "    return daily_df"
   ]
  },
  {
   "cell_type": "code",
   "execution_count": 19,
   "id": "ea4ffb3a",
   "metadata": {},
   "outputs": [
    {
     "name": "stdout",
     "output_type": "stream",
     "text": [
      "\n",
      "Procesando el archivo piezo_SDH1PS01...\n",
      "Datos diarios para piezo_SDH1PS01 guardados en: ../../data/processed/daily/piezo_SDH1PS01_daily.csv\n",
      "\n",
      "Procesando el archivo piezo_SDH1PS02...\n",
      "Datos diarios para piezo_SDH1PS02 guardados en: ../../data/processed/daily/piezo_SDH1PS02_daily.csv\n",
      "\n",
      "Procesando el archivo piezo_SDH2PP01...\n",
      "Datos diarios para piezo_SDH2PP01 guardados en: ../../data/processed/daily/piezo_SDH2PP01_daily.csv\n",
      "\n",
      "Procesando el archivo piezo_SDH2PS01...\n",
      "Datos diarios para piezo_SDH2PS01 guardados en: ../../data/processed/daily/piezo_SDH2PS01_daily.csv\n",
      "\n",
      "Procesando el archivo piezo_SDH2PS02...\n",
      "Datos diarios para piezo_SDH2PS02 guardados en: ../../data/processed/daily/piezo_SDH2PS02_daily.csv\n",
      "\n",
      "Procesando el archivo piezo_SDH2PS03...\n",
      "Datos diarios para piezo_SDH2PS03 guardados en: ../../data/processed/daily/piezo_SDH2PS03_daily.csv\n",
      "\n",
      "Procesando el archivo soil_SDH1...\n",
      "Datos diarios para soil_SDH1 guardados en: ../../data/processed/daily/soil_SDH1_daily.csv\n",
      "\n",
      "Procesando el archivo soil_SDH2...\n",
      "Datos diarios para soil_SDH2 guardados en: ../../data/processed/daily/soil_SDH2_daily.csv\n"
     ]
    }
   ],
   "source": [
    "# --- BUCLE DE PROCESAMIENTO ---\n",
    "\n",
    "# Define una carpeta de salida para los datos limpios y la crea si no existe\n",
    "output_path = '../../data/processed/daily/'\n",
    "os.makedirs(output_path, exist_ok=True)\n",
    "\n",
    "# Itera sobre cada archivo\n",
    "for file_path in data_files:\n",
    "\n",
    "    # Define el nombre de cada df usando el nombre de archivo\n",
    "    base_name = os.path.basename(file_path)\n",
    "    df_name = '_'.join(base_name.split('_')[:2])\n",
    "\n",
    "    # Imprime el nombre del df en procesamiento\n",
    "    print(f'\\nProcesando el archivo {df_name}...')\n",
    "\n",
    "    # Llama a la funcion de agregacion diaria\n",
    "    daily_dataframe = aggregate_to_daily_mean(file_path)\n",
    "\n",
    "    # Genera un nombre de archivo y asigna ubicacion al df diario\n",
    "    output_filename = os.path.join(output_path, f'{df_name}_daily.csv')\n",
    "    \n",
    "    # Exporta el df procesado como csv\n",
    "    daily_dataframe.to_csv(output_filename)\n",
    "    \n",
    "    # Imprime informacion sobre el nombre del output\n",
    "    print(f\"Datos diarios para {df_name} guardados en: {output_filename}\")\n"
   ]
  }
 ],
 "metadata": {
  "kernelspec": {
   "display_name": "base",
   "language": "python",
   "name": "python3"
  },
  "language_info": {
   "codemirror_mode": {
    "name": "ipython",
    "version": 3
   },
   "file_extension": ".py",
   "mimetype": "text/x-python",
   "name": "python",
   "nbconvert_exporter": "python",
   "pygments_lexer": "ipython3",
   "version": "3.13.5"
  }
 },
 "nbformat": 4,
 "nbformat_minor": 5
}
